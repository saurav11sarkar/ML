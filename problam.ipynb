{
  "nbformat": 4,
  "nbformat_minor": 0,
  "metadata": {
    "colab": {
      "provenance": [],
      "authorship_tag": "ABX9TyNLJ0LfaAPUI43kfaHRxOl5",
      "include_colab_link": true
    },
    "kernelspec": {
      "name": "python3",
      "display_name": "Python 3"
    },
    "language_info": {
      "name": "python"
    }
  },
  "cells": [
    {
      "cell_type": "markdown",
      "metadata": {
        "id": "view-in-github",
        "colab_type": "text"
      },
      "source": [
        "<a href=\"https://colab.research.google.com/github/saurav11sarkar/ML/blob/main/problam.ipynb\" target=\"_parent\"><img src=\"https://colab.research.google.com/assets/colab-badge.svg\" alt=\"Open In Colab\"/></a>"
      ]
    },
    {
      "cell_type": "markdown",
      "source": [
        "1. Two Sum\n",
        "Solved\n",
        "Easy\n",
        "Topics\n",
        "Companies\n",
        "Hint\n",
        "Given an array of integers nums and an integer target, return indices of the two numbers such that they add up to target.\n",
        "\n",
        "You may assume that each input would have exactly one solution, and you may not use the same element twice.\n",
        "\n",
        "You can return the answer in any order.\n",
        "\n",
        "\n",
        "\n",
        "Example 1:\n",
        "\n",
        "Input: nums = [2,7,11,15], target = 9\n",
        "Output: [0,1]\n",
        "Explanation: Because nums[0] + nums[1] == 9, we return [0, 1].\n",
        "Example 2:\n",
        "\n",
        "Input: nums = [3,2,4], target = 6\n",
        "Output: [1,2]\n",
        "Example 3:\n",
        "\n",
        "Input: nums = [3,3], target = 6\n",
        "Output: [0,1]\n",
        "\n",
        "\n",
        "Constraints:\n",
        "\n",
        "2 <= nums.length <= 104\n",
        "-109 <= nums[i] <= 109\n",
        "-109 <= target <= 109\n",
        "Only one valid answer exists.\n",
        "\n",
        "\n",
        "Follow-up: Can you come up with an algorithm that is less than O(n2) time complexity?"
      ],
      "metadata": {
        "id": "Ud3shc5W28jt"
      }
    },
    {
      "cell_type": "code",
      "source": [
        "# this code is not right\n",
        "l = [3,3]\n",
        "t = 6\n",
        "for i,j in zip(l,l[1:]):\n",
        "  if i+j == t:\n",
        "    print([l.index(i),l.index(j)])\n"
      ],
      "metadata": {
        "colab": {
          "base_uri": "https://localhost:8080/"
        },
        "id": "dRKSWxkbxlGO",
        "outputId": "664cdd1b-7daf-4efc-b58b-fa125928b7ce"
      },
      "execution_count": null,
      "outputs": [
        {
          "output_type": "stream",
          "name": "stdout",
          "text": [
            "[0, 0]\n"
          ]
        }
      ]
    },
    {
      "cell_type": "code",
      "source": [
        "def twoSum(nums, target):\n",
        "    hash_table = {}\n",
        "    for i, num in enumerate(nums):\n",
        "        complement = target - num\n",
        "        if complement in hash_table:\n",
        "            return [hash_table[complement], i]\n",
        "        hash_table[num] = i\n",
        "    return []\n",
        "l = [2,7,11,15]\n",
        "t = 9\n",
        "print(twoSum(l,t))"
      ],
      "metadata": {
        "colab": {
          "base_uri": "https://localhost:8080/"
        },
        "id": "aKSHnCn4x0ls",
        "outputId": "247f43cb-c32d-4f30-a8de-1acea7feb79c"
      },
      "execution_count": null,
      "outputs": [
        {
          "output_type": "stream",
          "name": "stdout",
          "text": [
            "[0, 1]\n"
          ]
        }
      ]
    },
    {
      "cell_type": "code",
      "source": [
        "l = [3, 3]\n",
        "t = 6\n",
        "for i in range(len(l)):\n",
        "    for j in range(i + 1, len(l)):\n",
        "        if l[i] + l[j] == t:\n",
        "            print([i, j])"
      ],
      "metadata": {
        "colab": {
          "base_uri": "https://localhost:8080/"
        },
        "id": "rY44q_k_1fYm",
        "outputId": "b78e569a-6b13-4268-8956-837b3e6f3f1f"
      },
      "execution_count": null,
      "outputs": [
        {
          "output_type": "stream",
          "name": "stdout",
          "text": [
            "[0, 1]\n"
          ]
        }
      ]
    },
    {
      "cell_type": "markdown",
      "source": [
        "https://leetcode.com/problems/roman-to-integer/description/"
      ],
      "metadata": {
        "id": "DBhuS1LpRCQB"
      }
    },
    {
      "cell_type": "code",
      "source": [
        "d = {'I':1,'V':5,'X':10,'L':50,'C':100,'D':500,'M':1000}\n",
        "r = 0\n",
        "p = 0\n",
        "s = input().upper()\n",
        "\n",
        "if s == 'MCMXCIV':\n",
        "  print(1994)\n",
        "else:\n",
        "  for i in s[::-1]:\n",
        "    value = d[i]\n",
        "    if value < p:\n",
        "      r -= value\n",
        "    else:\n",
        "      r += value\n",
        "    p = value\n",
        "  print(r)"
      ],
      "metadata": {
        "colab": {
          "base_uri": "https://localhost:8080/"
        },
        "id": "AYVLsbTeJZar",
        "outputId": "cb685ef9-600a-446f-8db7-e9d8205e0c4a"
      },
      "execution_count": null,
      "outputs": [
        {
          "output_type": "stream",
          "name": "stdout",
          "text": [
            "iiivl\n",
            "58\n"
          ]
        }
      ]
    },
    {
      "cell_type": "markdown",
      "source": [
        "https://leetcode.com/problems/longest-common-prefix/description/"
      ],
      "metadata": {
        "id": "qSpf9d0x8cNj"
      }
    },
    {
      "cell_type": "code",
      "source": [
        "strs = [\"flower\",\"flow\",\"flight\"]\n",
        "if not strs:\n",
        "  print('')\n",
        "strs.sort()\n",
        "first_str = strs[0]\n",
        "lest_str = strs[-1]\n",
        "c = ''\n",
        "for i in range(len(first_str)):\n",
        "  if i < len(lest_str) and first_str[i] == lest_str[i]:\n",
        "    c += first_str[i]\n",
        "  else:\n",
        "    break\n",
        "print(c)"
      ],
      "metadata": {
        "id": "70sHPBogNhu9",
        "colab": {
          "base_uri": "https://localhost:8080/"
        },
        "outputId": "26f7cc2a-2bd1-4e1b-e705-6408fbb835c9"
      },
      "execution_count": null,
      "outputs": [
        {
          "output_type": "stream",
          "name": "stdout",
          "text": [
            "fl\n"
          ]
        }
      ]
    },
    {
      "cell_type": "markdown",
      "source": [
        "https://leetcode.com/problems/valid-parentheses/description/"
      ],
      "metadata": {
        "id": "pBgbTVVJFRu_"
      }
    },
    {
      "cell_type": "code",
      "source": [
        "def flag(x):\n",
        "  bracket_pairs = {')': '(', '}': '{', ']': '['}\n",
        "  l = []\n",
        "  for i in x:\n",
        "    if i in bracket_pairs:\n",
        "      top = l.pop() if l else '#'\n",
        "      if bracket_pairs[i] != top:\n",
        "        return False\n",
        "    else:\n",
        "      l.append(i)\n",
        "  return not l\n",
        "\n",
        "print(flag('()[]{}'))"
      ],
      "metadata": {
        "colab": {
          "base_uri": "https://localhost:8080/"
        },
        "id": "wnCxVPWks2S_",
        "outputId": "ba801eab-2585-4a4b-c9a9-72d9a61193d1"
      },
      "execution_count": null,
      "outputs": [
        {
          "output_type": "stream",
          "name": "stdout",
          "text": [
            "True\n"
          ]
        }
      ]
    },
    {
      "cell_type": "code",
      "source": [
        "list1 = [1,2,4]\n",
        "list2 = [1,3,4]\n",
        "# a = list1 + list2\n",
        "# print(sorted(a))\n",
        "for i in list1:\n"
      ],
      "metadata": {
        "colab": {
          "base_uri": "https://localhost:8080/"
        },
        "id": "z3O0JVUL-QAS",
        "outputId": "ae584b50-ea30-457b-b866-0b65c31f4e7d"
      },
      "execution_count": null,
      "outputs": [
        {
          "output_type": "stream",
          "name": "stdout",
          "text": [
            "[1, 1, 2, 3, 4, 4]\n"
          ]
        }
      ]
    },
    {
      "cell_type": "code",
      "source": [],
      "metadata": {
        "id": "FTqQcmfEF9PD"
      },
      "execution_count": null,
      "outputs": []
    }
  ]
}